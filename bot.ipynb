{
 "cells": [
  {
   "cell_type": "code",
   "execution_count": 1,
   "metadata": {},
   "outputs": [
    {
     "name": "stdout",
     "output_type": "stream",
     "text": [
      "Requirement already satisfied: python-telegram-bot in c:\\users\\malavika\\anaconda3\\lib\\site-packages (13.15)\n",
      "Requirement already satisfied: APScheduler==3.6.3 in c:\\users\\malavika\\anaconda3\\lib\\site-packages (from python-telegram-bot) (3.6.3)\n",
      "Requirement already satisfied: cachetools==4.2.2 in c:\\users\\malavika\\anaconda3\\lib\\site-packages (from python-telegram-bot) (4.2.2)\n",
      "Requirement already satisfied: certifi in c:\\users\\malavika\\anaconda3\\lib\\site-packages (from python-telegram-bot) (2022.9.14)\n",
      "Requirement already satisfied: tornado==6.1 in c:\\users\\malavika\\anaconda3\\lib\\site-packages (from python-telegram-bot) (6.1)\n",
      "Requirement already satisfied: pytz>=2018.6 in c:\\users\\malavika\\anaconda3\\lib\\site-packages (from python-telegram-bot) (2022.1)\n",
      "Requirement already satisfied: tzlocal>=1.2 in c:\\users\\malavika\\anaconda3\\lib\\site-packages (from APScheduler==3.6.3->python-telegram-bot) (2.1)\n",
      "Requirement already satisfied: setuptools>=0.7 in c:\\users\\malavika\\anaconda3\\lib\\site-packages (from APScheduler==3.6.3->python-telegram-bot) (63.4.1)\n",
      "Requirement already satisfied: six>=1.4.0 in c:\\users\\malavika\\anaconda3\\lib\\site-packages (from APScheduler==3.6.3->python-telegram-bot) (1.16.0)\n",
      "Note: you may need to restart the kernel to use updated packages.\n"
     ]
    }
   ],
   "source": [
    "pip install python-telegram-bot"
   ]
  },
  {
   "cell_type": "code",
   "execution_count": 2,
   "metadata": {},
   "outputs": [
    {
     "name": "stdout",
     "output_type": "stream",
     "text": [
      "Collecting package metadata (current_repodata.json): ...working... done\n",
      "Solving environment: ...working... done\n",
      "\n",
      "## Package Plan ##\n",
      "\n",
      "  environment location: c:\\Users\\MALAVIKA\\anaconda3\n",
      "\n",
      "  added / updated specs:\n",
      "    - python-telegram-bot\n",
      "\n",
      "\n",
      "The following packages will be SUPERSEDED by a higher-priority channel:\n",
      "\n",
      "  conda              pkgs/main::conda-22.11.1-py39haa95532~ --> conda-forge::conda-22.11.1-py39hcbf5309_1 \n",
      "\n",
      "\n",
      "\n",
      "Downloading and Extracting Packages\n",
      "\n",
      "\n",
      "Preparing transaction: ...working... done\n",
      "Verifying transaction: ...working... done\n",
      "Executing transaction: ...working... done\n",
      "\n",
      "Note: you may need to restart the kernel to use updated packages.\n"
     ]
    }
   ],
   "source": [
    "conda install -c conda-forge python-telegram-bot"
   ]
  },
  {
   "cell_type": "code",
   "execution_count": 3,
   "metadata": {},
   "outputs": [],
   "source": [
    "from telegram.ext import Updater\n",
    "from telegram.update import Update\n",
    "from telegram.ext.callbackcontext import CallbackContext\n",
    "from telegram.ext.commandhandler import CommandHandler\n",
    "from telegram.ext.messagehandler import MessageHandler\n",
    "from telegram.ext.filters import Filters"
   ]
  },
  {
   "cell_type": "code",
   "execution_count": 4,
   "metadata": {},
   "outputs": [],
   "source": [
    "updater = Updater(\"5946180342:AAHe64sUL3QKYRF3N8U89MpPW8fprXJIU6I\",\n",
    "\t\t\t\tuse_context=True)\n",
    "\n",
    "\n",
    "def start(update: Update, context: CallbackContext):\n",
    "\tupdate.message.reply_text(\n",
    "\t\t\"HI I AM A SPAM MESSAGE DETECTOR\")"
   ]
  }
 ],
 "metadata": {
  "kernelspec": {
   "display_name": "Python 3.9.13 ('base')",
   "language": "python",
   "name": "python3"
  },
  "language_info": {
   "codemirror_mode": {
    "name": "ipython",
    "version": 3
   },
   "file_extension": ".py",
   "mimetype": "text/x-python",
   "name": "python",
   "nbconvert_exporter": "python",
   "pygments_lexer": "ipython3",
   "version": "3.9.13"
  },
  "orig_nbformat": 4,
  "vscode": {
   "interpreter": {
    "hash": "bdb87b4a480a15ddcb69f41be13796bcb8d5abf636c6c8f6d00d0dfc455d1c0f"
   }
  }
 },
 "nbformat": 4,
 "nbformat_minor": 2
}
